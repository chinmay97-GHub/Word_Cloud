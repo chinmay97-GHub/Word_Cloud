{
 "cells": [
  {
   "cell_type": "markdown",
   "metadata": {},
   "source": [
    "# WORDCLOUD"
   ]
  },
  {
   "cell_type": "markdown",
   "metadata": {},
   "source": [
    "## libraries to import"
   ]
  },
  {
   "cell_type": "code",
   "execution_count": 2,
   "metadata": {},
   "outputs": [],
   "source": [
    "from wordcloud import WordCloud, STOPWORDS, ImageColorGenerator \n",
    "from PIL import Image # to import images\n",
    "import matplotlib.pyplot as plt # to display images\n",
    "import numpy as np # for creating a custom mask"
   ]
  },
  {
   "cell_type": "code",
   "execution_count": 36,
   "metadata": {},
   "outputs": [
    {
     "data": {
      "image/png": "[encoded data removed]",
      "text/plain": [
       "<Figure size 432x288 with 1 Axes>"
      ]
     },
     "metadata": {
      "needs_background": "light"
     },
     "output_type": "display_data"
    }
   ],
   "source": [
    "# Importing the text file\n",
    "text = open('batman.txt', encoding='utf-8', mode='r').read()\n",
    "\n",
    "# Creating custom mask\n",
    "custom_mask = np.array(Image.open('batman.jpg'))\n",
    "# Used to not include common word(like in, or, and)\n",
    "stopwords = set(STOPWORDS)\n",
    "\n",
    "# Creating a WordCloud\n",
    "wc = WordCloud(background_color='black',\n",
    "              stopwords=stopwords,\n",
    "              height=800, width=1000,\n",
    "              mask=custom_mask,\n",
    "              max_font_size=400,\n",
    "              colormap='Blues',\n",
    "              random_state=4)\n",
    "\n",
    "wc.generate(text)\n",
    "\n",
    "# To make the text color same as the image\n",
    "#image_color = ImageColorGenerator(custom_mask)\n",
    "#wc.recolor(color_func = image_color)\n",
    "\n",
    "# to display the output\n",
    "plt.imshow(wc)\n",
    "plt.axis('off')\n",
    "plt.show()"
   ]
  },
  {
   "cell_type": "markdown",
   "metadata": {},
   "source": [
    "## To save the image"
   ]
  },
  {
   "cell_type": "code",
   "execution_count": 34,
   "metadata": {},
   "outputs": [
    {
     "data": {
      "text/plain": [
       "<wordcloud.wordcloud.WordCloud at 0x26b768f6808>"
      ]
     },
     "execution_count": 34,
     "metadata": {},
     "output_type": "execute_result"
    }
   ],
   "source": [
    "wc.to_file('Batman_wordCloud.jpg')"
   ]
  },
  {
   "cell_type": "code",
   "execution_count": null,
   "metadata": {},
   "outputs": [],
   "source": []
  }
 ],
 "metadata": {
  "kernelspec": {
   "display_name": "Python 3",
   "language": "python",
   "name": "python3"
  },
  "language_info": {
   "codemirror_mode": {
    "name": "ipython",
    "version": 3
   },
   "file_extension": ".py",
   "mimetype": "text/x-python",
   "name": "python",
   "nbconvert_exporter": "python",
   "pygments_lexer": "ipython3",
   "version": "3.7.4"
  }
 },
 "nbformat": 4,
 "nbformat_minor": 2
}
